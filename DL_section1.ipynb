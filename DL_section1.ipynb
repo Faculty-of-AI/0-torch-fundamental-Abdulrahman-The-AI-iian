{
  "nbformat": 4,
  "nbformat_minor": 0,
  "metadata": {
    "colab": {
      "provenance": [],
      "gpuType": "T4"
    },
    "kernelspec": {
      "name": "python3",
      "display_name": "Python 3"
    },
    "language_info": {
      "name": "python"
    },
    "accelerator": "GPU"
  },
  "cells": [
    {
      "cell_type": "code",
      "source": [
        "import torch\n",
        "torch.__version__"
      ],
      "metadata": {
        "colab": {
          "base_uri": "https://localhost:8080/",
          "height": 36
        },
        "id": "CzIb15ktKmfC",
        "outputId": "086ffecb-7030-4e6f-fffa-57f4887ca972"
      },
      "execution_count": 35,
      "outputs": [
        {
          "output_type": "execute_result",
          "data": {
            "text/plain": [
              "'2.8.0+cu126'"
            ],
            "application/vnd.google.colaboratory.intrinsic+json": {
              "type": "string"
            }
          },
          "metadata": {},
          "execution_count": 35
        }
      ]
    },
    {
      "cell_type": "markdown",
      "source": [
        "# Create a random tensor with shape (7, 7)\n"
      ],
      "metadata": {
        "id": "f5itK2n1JpTj"
      }
    },
    {
      "cell_type": "code",
      "execution_count": 36,
      "metadata": {
        "colab": {
          "base_uri": "https://localhost:8080/"
        },
        "id": "rmPgDwobJmQ5",
        "outputId": "ab81d802-7d55-4104-9c1b-e9dd202c1a85"
      },
      "outputs": [
        {
          "output_type": "execute_result",
          "data": {
            "text/plain": [
              "tensor([7, 7])"
            ]
          },
          "metadata": {},
          "execution_count": 36
        }
      ],
      "source": [
        "t1 = torch.tensor([7, 7])\n",
        "t1"
      ]
    },
    {
      "cell_type": "markdown",
      "source": [
        "# Perform a matrix multiplication on the tensor from 2 with another random tensor with shape `(1, 7)` (hint: you may have to transpose the second tensor)."
      ],
      "metadata": {
        "id": "LvdHsnWPJ4Cz"
      }
    },
    {
      "cell_type": "code",
      "source": [
        "t1 = torch.rand(7, 7)\n",
        "t2 = torch.rand(1, 7)\n",
        "torch.matmul(t1, t2.T)"
      ],
      "metadata": {
        "colab": {
          "base_uri": "https://localhost:8080/"
        },
        "id": "o-9Qb3dwJ9C2",
        "outputId": "efbf680c-c6df-4ac2-cbaa-4f55e07fe7f8"
      },
      "execution_count": 49,
      "outputs": [
        {
          "output_type": "execute_result",
          "data": {
            "text/plain": [
              "tensor([[1.7079],\n",
              "        [2.3925],\n",
              "        [1.8437],\n",
              "        [0.8302],\n",
              "        [1.4080],\n",
              "        [1.7865],\n",
              "        [1.4289]])"
            ]
          },
          "metadata": {},
          "execution_count": 49
        }
      ]
    },
    {
      "cell_type": "markdown",
      "source": [
        "# Set the random seed to `0` and do 2 & 3 over again."
      ],
      "metadata": {
        "id": "omVEWbX7J9Wi"
      }
    },
    {
      "cell_type": "code",
      "source": [
        "torch.manual_seed(0)\n",
        "t1 = torch.rand(7, 7)\n",
        "t2 = torch.rand(1, 7)\n",
        "torch.matmul(t1, t2.T)"
      ],
      "metadata": {
        "colab": {
          "base_uri": "https://localhost:8080/"
        },
        "id": "Z1dU1L9ZKBmL",
        "outputId": "3e81d3e8-5859-4155-ce78-e04c3e6b5b46"
      },
      "execution_count": 38,
      "outputs": [
        {
          "output_type": "execute_result",
          "data": {
            "text/plain": [
              "tensor([[1.8542],\n",
              "        [1.9611],\n",
              "        [2.2884],\n",
              "        [3.0481],\n",
              "        [1.7067],\n",
              "        [2.5290],\n",
              "        [1.7989]])"
            ]
          },
          "metadata": {},
          "execution_count": 38
        }
      ]
    },
    {
      "cell_type": "markdown",
      "source": [
        "# Speaking of random seeds, we saw how to set it with `torch.manual_seed()` but is there a GPU equivalent? (hint: you'll need to look into the documentation for `torch.cuda` for this one)\n",
        "  * If there is, set the GPU random seed to `1234`."
      ],
      "metadata": {
        "id": "acq7I9uMKB3D"
      }
    },
    {
      "cell_type": "code",
      "source": [
        "torch.cuda.manual_seed(1234)"
      ],
      "metadata": {
        "id": "fZkigbQ6KGda"
      },
      "execution_count": 39,
      "outputs": []
    },
    {
      "cell_type": "markdown",
      "source": [
        "# Create two random tensors of shape `(2, 3)` and send them both to the GPU (you'll need access to a GPU for this). Set `torch.manual_seed(1234)` when creating the tensors (this doesn't have to be the GPU random seed). The output should be something like:\n",
        "\n",
        "```\n",
        "Device: cuda\n",
        "(tensor([[0.0290, 0.4019, 0.2598],\n",
        "         [0.3666, 0.0583, 0.7006]], device='cuda:0'),\n",
        " tensor([[0.0518, 0.4681, 0.6738],\n",
        "         [0.3315, 0.7837, 0.5631]], device='cuda:0'))"
      ],
      "metadata": {
        "id": "dQ9xICNBKGqX"
      }
    },
    {
      "cell_type": "code",
      "source": [
        "torch.cuda.is_available()"
      ],
      "metadata": {
        "colab": {
          "base_uri": "https://localhost:8080/"
        },
        "id": "bKI3V2PGKKrU",
        "outputId": "ff59e7a4-72b6-427d-ab23-f3e4b888a277"
      },
      "execution_count": 40,
      "outputs": [
        {
          "output_type": "execute_result",
          "data": {
            "text/plain": [
              "True"
            ]
          },
          "metadata": {},
          "execution_count": 40
        }
      ]
    },
    {
      "cell_type": "code",
      "source": [
        "torch.manual_seed(1234)\n",
        "\n",
        "x = torch.rand(2, 3)\n",
        "y = torch.rand(2, 3)\n",
        "\n",
        "x = x.to('cuda')\n",
        "y = y.to('cuda')\n",
        "\n",
        "print(\"Device:\", x.device.type)\n",
        "print((x, y))\n"
      ],
      "metadata": {
        "colab": {
          "base_uri": "https://localhost:8080/"
        },
        "id": "N9TuHaT21Dju",
        "outputId": "6d2dced9-a0fe-4ab2-f705-5e55304f09df"
      },
      "execution_count": 41,
      "outputs": [
        {
          "output_type": "stream",
          "name": "stdout",
          "text": [
            "Device: cuda\n",
            "(tensor([[0.0290, 0.4019, 0.2598],\n",
            "        [0.3666, 0.0583, 0.7006]], device='cuda:0'), tensor([[0.0518, 0.4681, 0.6738],\n",
            "        [0.3315, 0.7837, 0.5631]], device='cuda:0'))\n"
          ]
        }
      ]
    },
    {
      "cell_type": "markdown",
      "source": [
        "# Perform a matrix multiplication on the tensors you created in 6 (again, you may have to adjust the shapes of one of the tensors)."
      ],
      "metadata": {
        "id": "gAXoFLHWKLPY"
      }
    },
    {
      "cell_type": "code",
      "source": [
        "torch.manual_seed(1234)\n",
        "\n",
        "t1 = torch.rand(2, 3, device='cuda')\n",
        "t2 = torch.rand(2, 3, device='cuda')\n",
        "x = torch.matmul(t1, t2.T)\n",
        "x"
      ],
      "metadata": {
        "colab": {
          "base_uri": "https://localhost:8080/"
        },
        "id": "uADnLseAKQKd",
        "outputId": "b9fc3c95-cf43-4f03-e761-fbf7012f4680"
      },
      "execution_count": 42,
      "outputs": [
        {
          "output_type": "execute_result",
          "data": {
            "text/plain": [
              "tensor([[0.2786, 0.7668],\n",
              "        [0.7343, 0.6102]], device='cuda:0')"
            ]
          },
          "metadata": {},
          "execution_count": 42
        }
      ]
    },
    {
      "cell_type": "markdown",
      "source": [
        "# Find the maximum and minimum values of the output of 7."
      ],
      "metadata": {
        "id": "GNWNFO8IKQeM"
      }
    },
    {
      "cell_type": "code",
      "source": [
        "torch.max(x) , torch.min(x)"
      ],
      "metadata": {
        "colab": {
          "base_uri": "https://localhost:8080/"
        },
        "id": "YvG7kc_bKTII",
        "outputId": "641db6cb-09cc-4437-89a0-d3241e38d2dc"
      },
      "execution_count": 43,
      "outputs": [
        {
          "output_type": "execute_result",
          "data": {
            "text/plain": [
              "(tensor(0.7668, device='cuda:0'), tensor(0.2786, device='cuda:0'))"
            ]
          },
          "metadata": {},
          "execution_count": 43
        }
      ]
    },
    {
      "cell_type": "markdown",
      "source": [
        "# Find the maximum and minimum index values of the output of 7."
      ],
      "metadata": {
        "id": "9nSI6ceSKTg6"
      }
    },
    {
      "cell_type": "code",
      "source": [
        "print(f\"Index where max value occurs: {x.argmax()}\") # -> 0.7668\n",
        "print(f\"Index where min value occurs: {x.argmin()}\") # -> 0.2786"
      ],
      "metadata": {
        "colab": {
          "base_uri": "https://localhost:8080/"
        },
        "id": "v1JlmMLwKaIf",
        "outputId": "0ec4b0ac-afd8-41b2-d44d-80c0a336f819"
      },
      "execution_count": 44,
      "outputs": [
        {
          "output_type": "stream",
          "name": "stdout",
          "text": [
            "Index where max value occurs: 1\n",
            "Index where min value occurs: 0\n"
          ]
        }
      ]
    },
    {
      "cell_type": "markdown",
      "source": [
        "# Make a random tensor with shape `(1, 1, 1, 10)` and then create a new tensor with all the `1` dimensions removed to be left with a tensor of shape `(10)`. Set the seed to `7` when you create it and print out the first tensor and it's shape as well as the second tensor and it's shape.\n",
        "\n",
        "The output should look like:\n",
        "\n",
        "```\n",
        "tensor([[[[0.5349, 0.1988, 0.6592, 0.6569, 0.2328, 0.4251, 0.2071, 0.6297,\n",
        "           0.3653, 0.8513]]]]) torch.Size([1, 1, 1, 10])\n",
        "tensor([0.5349, 0.1988, 0.6592, 0.6569, 0.2328, 0.4251, 0.2071, 0.6297, 0.3653,\n",
        "        0.8513]) torch.Size([10])\n",
        "```"
      ],
      "metadata": {
        "id": "bI9y6QRRKaUq"
      }
    },
    {
      "cell_type": "code",
      "source": [
        "torch.manual_seed(7)\n",
        "\n",
        "x = torch.rand(1, 1, 1, 10)\n",
        "\n",
        "y = torch.squeeze(x)\n",
        "\n",
        "print(\"First tensor (x):\", x)\n",
        "print(\"Shape of x:\", x.shape)\n",
        "print(\"\\nSecond tensor (y):\", y)\n",
        "print(\"Shape of y:\", y.shape)\n"
      ],
      "metadata": {
        "id": "OicFQgkHKcRU",
        "colab": {
          "base_uri": "https://localhost:8080/"
        },
        "outputId": "97389b1d-0ffd-424d-8e02-689478457e84"
      },
      "execution_count": 45,
      "outputs": [
        {
          "output_type": "stream",
          "name": "stdout",
          "text": [
            "First tensor (x): tensor([[[[0.5349, 0.1988, 0.6592, 0.6569, 0.2328, 0.4251, 0.2071, 0.6297,\n",
            "           0.3653, 0.8513]]]])\n",
            "Shape of x: torch.Size([1, 1, 1, 10])\n",
            "\n",
            "Second tensor (y): tensor([0.5349, 0.1988, 0.6592, 0.6569, 0.2328, 0.4251, 0.2071, 0.6297, 0.3653,\n",
            "        0.8513])\n",
            "Shape of y: torch.Size([10])\n"
          ]
        }
      ]
    }
  ]
}